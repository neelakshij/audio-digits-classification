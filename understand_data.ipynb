{
 "cells": [
  {
   "cell_type": "code",
   "execution_count": 1,
   "metadata": {},
   "outputs": [],
   "source": [
    "# import necessary libraries\n",
    "import os\n",
    "import librosa\n",
    "import librosa.display\n",
    "import pandas as pd"
   ]
  },
  {
   "cell_type": "code",
   "execution_count": 2,
   "metadata": {},
   "outputs": [],
   "source": [
    "# let's check whether all audios are mono and with same sampling rate\n",
    "\n",
    "import os\n",
    "from os import scandir\n",
    "\n",
    "# create empty list to save details\n",
    "# samplingRate stores sampling frequency of each audio\n",
    "# audioName informs all the informations belongs to which audio\n",
    "# audioDuration provides length of audios in seconds\n",
    "# fileType will check the shape of the audio to confirm its type mono or stereo\n",
    "\n",
    "audioName = []\n",
    "samplingRate = []\n",
    "audioDuration = []\n",
    "fileType = []\n",
    "\n",
    "dataset_path = \"./recordings/\"\n",
    "\n",
    "for i, (dirpath, dirnames, filenames) in enumerate(os.walk(dataset_path)):\n",
    "    for f in filenames:\n",
    "            \n",
    "            # load audio file\n",
    "            file_path = os.path.join(dirpath, f)\n",
    "            dirpath_components = file_path.split('/')\n",
    "            fname = dirpath_components[-1]\n",
    "            \n",
    "            audioName.append(fname)\n",
    "            \n",
    "            # let's read audio with its sampling rate keeping sr = None, \n",
    "            # otherwise librosa will resample the audio to 22 KHz.\n",
    "            # keeping mono = False will ensure that \n",
    "            # if any audio is stereo then it will get read as stereo.\n",
    "            \n",
    "            audio, sr = librosa.load(file_path,sr=None,mono=False)\n",
    "            \n",
    "            samplingRate.append(sr)\n",
    "            \n",
    "          #  fileSize.append(audio.shape)\n",
    "            \n",
    "            if len(audio.shape)>1:\n",
    "                file_type = \"stereo\"\n",
    "                duration = sr/audio.shape[1]\n",
    "            else:\n",
    "                file_type = \"mono\"\n",
    "                duration = sr/audio.shape[0]\n",
    "                \n",
    "            fileType.append(file_type)\n",
    "            \n",
    "            audioDuration.append(duration) \n",
    "\n",
    "# gather all information together in dataframe             \n",
    "df = pd.DataFrame({'audio_name':audioName, 'sampling_rate':samplingRate, \n",
    "                   'file_type':fileType, 'audio_duration':audioDuration})\n",
    "# can save this dataframe in csv format\n",
    "#df.to_csv(r'audio_info.csv',sep=',',header=True)"
   ]
  },
  {
   "cell_type": "code",
   "execution_count": 3,
   "metadata": {},
   "outputs": [
    {
     "data": {
      "text/html": [
       "<div>\n",
       "<style scoped>\n",
       "    .dataframe tbody tr th:only-of-type {\n",
       "        vertical-align: middle;\n",
       "    }\n",
       "\n",
       "    .dataframe tbody tr th {\n",
       "        vertical-align: top;\n",
       "    }\n",
       "\n",
       "    .dataframe thead th {\n",
       "        text-align: right;\n",
       "    }\n",
       "</style>\n",
       "<table border=\"1\" class=\"dataframe\">\n",
       "  <thead>\n",
       "    <tr style=\"text-align: right;\">\n",
       "      <th></th>\n",
       "      <th>audio_name</th>\n",
       "      <th>sampling_rate</th>\n",
       "      <th>file_type</th>\n",
       "      <th>audio_duration</th>\n",
       "    </tr>\n",
       "  </thead>\n",
       "  <tbody>\n",
       "    <tr>\n",
       "      <th>0</th>\n",
       "      <td>0_george_0.wav</td>\n",
       "      <td>8000</td>\n",
       "      <td>mono</td>\n",
       "      <td>3.355705</td>\n",
       "    </tr>\n",
       "    <tr>\n",
       "      <th>1</th>\n",
       "      <td>0_george_1.wav</td>\n",
       "      <td>8000</td>\n",
       "      <td>mono</td>\n",
       "      <td>1.692405</td>\n",
       "    </tr>\n",
       "    <tr>\n",
       "      <th>2</th>\n",
       "      <td>0_george_10.wav</td>\n",
       "      <td>8000</td>\n",
       "      <td>mono</td>\n",
       "      <td>1.342732</td>\n",
       "    </tr>\n",
       "    <tr>\n",
       "      <th>3</th>\n",
       "      <td>0_george_11.wav</td>\n",
       "      <td>8000</td>\n",
       "      <td>mono</td>\n",
       "      <td>2.185195</td>\n",
       "    </tr>\n",
       "    <tr>\n",
       "      <th>4</th>\n",
       "      <td>0_george_12.wav</td>\n",
       "      <td>8000</td>\n",
       "      <td>mono</td>\n",
       "      <td>1.975309</td>\n",
       "    </tr>\n",
       "  </tbody>\n",
       "</table>\n",
       "</div>"
      ],
      "text/plain": [
       "        audio_name  sampling_rate file_type  audio_duration\n",
       "0   0_george_0.wav           8000      mono        3.355705\n",
       "1   0_george_1.wav           8000      mono        1.692405\n",
       "2  0_george_10.wav           8000      mono        1.342732\n",
       "3  0_george_11.wav           8000      mono        2.185195\n",
       "4  0_george_12.wav           8000      mono        1.975309"
      ]
     },
     "execution_count": 3,
     "metadata": {},
     "output_type": "execute_result"
    }
   ],
   "source": [
    "df.head()"
   ]
  },
  {
   "cell_type": "code",
   "execution_count": 4,
   "metadata": {},
   "outputs": [
    {
     "data": {
      "text/plain": [
       "array(['mono'], dtype=object)"
      ]
     },
     "execution_count": 4,
     "metadata": {},
     "output_type": "execute_result"
    }
   ],
   "source": [
    "# Checking file_type has unique values\n",
    "(pd.unique(df['file_type']))"
   ]
  },
  {
   "cell_type": "code",
   "execution_count": 5,
   "metadata": {},
   "outputs": [
    {
     "data": {
      "text/plain": [
       "array([8000], dtype=int64)"
      ]
     },
     "execution_count": 5,
     "metadata": {},
     "output_type": "execute_result"
    }
   ],
   "source": [
    "# Checking sampling_rate has unique values\n",
    "(pd.unique(df['sampling_rate']))"
   ]
  },
  {
   "cell_type": "code",
   "execution_count": 6,
   "metadata": {},
   "outputs": [
    {
     "data": {
      "image/png": "[encoded data removed]",
      "text/plain": [
       "<Figure size 432x288 with 1 Axes>"
      ]
     },
     "metadata": {
      "needs_background": "light"
     },
     "output_type": "display_data"
    }
   ],
   "source": [
    "# let's plot audio signal (loaded the last one) using librosa's waveplot function\n",
    "librosa.display.waveplot(audio, sr);"
   ]
  }
 ],
 "metadata": {
  "kernelspec": {
   "display_name": "Python 3",
   "language": "python",
   "name": "python3"
  },
  "language_info": {
   "codemirror_mode": {
    "name": "ipython",
    "version": 3
   },
   "file_extension": ".py",
   "mimetype": "text/x-python",
   "name": "python",
   "nbconvert_exporter": "python",
   "pygments_lexer": "ipython3",
   "version": "3.8.5"
  }
 },
 "nbformat": 4,
 "nbformat_minor": 4
}
