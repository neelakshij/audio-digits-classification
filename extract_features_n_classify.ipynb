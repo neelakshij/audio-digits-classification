{
 "cells": [
  {
   "cell_type": "markdown",
   "metadata": {},
   "source": [
    "## Extract Features and Classify"
   ]
  },
  {
   "cell_type": "code",
   "execution_count": 1,
   "metadata": {},
   "outputs": [],
   "source": [
    "# import necessary packages\n",
    "\n",
    "# to extract features\n",
    "import os\n",
    "import librosa\n",
    "import numpy as np\n",
    "from scipy.stats import kurtosis, skew\n",
    "import matplotlib.pyplot as plt\n",
    "\n",
    "# to scale features\n",
    "from sklearn.preprocessing import MinMaxScaler\n",
    "\n",
    "# for classification\n",
    "import sklearn.model_selection as model_selection\n",
    "from sklearn.ensemble import RandomForestClassifier\n",
    "from sklearn.metrics import accuracy_score, f1_score, classification_report,confusion_matrix\n",
    "from sklearn.model_selection import cross_val_score"
   ]
  },
  {
   "cell_type": "markdown",
   "metadata": {},
   "source": [
    "### Extract features"
   ]
  },
  {
   "cell_type": "code",
   "execution_count": 2,
   "metadata": {},
   "outputs": [],
   "source": [
    "# function cal_stat takes a audio feature as argument and return its statistic measures:\n",
    "# minimum, maximum, mean, standard deviation, skewness and kurtosis\n",
    "\n",
    "def cal_stat(feature):\n",
    "    min_val = np.min(feature,axis=1)\n",
    "    max_val = np.max(feature,axis=1)\n",
    "    mean_val = feature.mean(axis=1)\n",
    "    std_val = feature.std(axis=1)\n",
    "    skewness_val = skew(feature.T,bias = False)\n",
    "    kurtosis_val = kurtosis(feature.T,fisher=False,bias=False)\n",
    "    stat_val = np.hstack([min_val,max_val,mean_val,std_val,skewness_val,kurtosis_val])\n",
    "    return stat_val"
   ]
  },
  {
   "cell_type": "code",
   "execution_count": 3,
   "metadata": {},
   "outputs": [],
   "source": [
    "# create empty list to save values\n",
    "labels = []\n",
    "mfcc_info = []"
   ]
  },
  {
   "cell_type": "code",
   "execution_count": 4,
   "metadata": {},
   "outputs": [],
   "source": [
    "# read audio one by one, extract label information and save it to labels list.\n",
    "# extract MFCC and its first and second order derivatives. \n",
    "# Pass these features as an argulment to cal_stat() to obtain respective statistical measures.\n",
    "dir_path = \"./recordings/\"\n",
    "file_names =os.listdir(dir_path)\n",
    "for f, file_name in enumerate(file_names):\n",
    "    labels.append(file_name[0])\n",
    "    file_path = os.path.join(dir_path,file_name)\n",
    "    audio, sr = librosa.load(file_path, sr= None)\n",
    "    \n",
    "    mfccs = librosa.feature.mfcc(audio, sr=sr, n_mfcc=13, n_fft=1024)\n",
    "    delta_mfccs = librosa.feature.delta(mfccs, width=3)\n",
    "    delta2_mfccs = librosa.feature.delta(mfccs, order=2, width=3)\n",
    "    \n",
    "    mfcc_stat = cal_stat(mfccs)\n",
    "    d1mfcc_stat = cal_stat(delta_mfccs)\n",
    "    d2mfcc_stat = cal_stat(delta2_mfccs)\n",
    "    all_mfcc_stat = np.hstack([mfcc_stat,d1mfcc_stat,d2mfcc_stat])\n",
    "    \n",
    "    mfcc_info.append(all_mfcc_stat)"
   ]
  },
  {
   "cell_type": "code",
   "execution_count": 5,
   "metadata": {},
   "outputs": [
    {
     "name": "stdout",
     "output_type": "stream",
     "text": [
      "audio labels shape is:  (3000,)\n",
      "Total global features (MFCC and its derivatives) are:  (3000, 234)\n"
     ]
    }
   ],
   "source": [
    "# convert labels and mfcc_info to numpy array \n",
    "\n",
    "audio_labels = np.asarray(labels)\n",
    "mfccs = np.array(mfcc_info)\n",
    "\n",
    "print(\"audio labels shape is: \", audio_labels.shape)\n",
    "print(\"Total global features (MFCC and its derivatives) are: \", mfccs.shape)"
   ]
  },
  {
   "cell_type": "code",
   "execution_count": 6,
   "metadata": {},
   "outputs": [
    {
     "data": {
      "image/png": "[encoded data removed]",
      "text/plain": [
       "<Figure size 432x288 with 1 Axes>"
      ]
     },
     "metadata": {
      "needs_background": "light"
     },
     "output_type": "display_data"
    }
   ],
   "source": [
    "%matplotlib inline\n",
    "plt.hist(mfccs);"
   ]
  },
  {
   "cell_type": "code",
   "execution_count": 7,
   "metadata": {},
   "outputs": [
    {
     "data": {
      "image/png": "[encoded data removed]",
      "text/plain": [
       "<Figure size 432x288 with 1 Axes>"
      ]
     },
     "metadata": {
      "needs_background": "light"
     },
     "output_type": "display_data"
    }
   ],
   "source": [
    "# scale mfccs using minmax \n",
    "mfccs_minmax = MinMaxScaler().fit_transform(mfccs)\n",
    "\n",
    "%matplotlib inline\n",
    "plt.hist(mfccs_minmax);"
   ]
  },
  {
   "cell_type": "markdown",
   "metadata": {},
   "source": [
    "### classifying audios"
   ]
  },
  {
   "cell_type": "code",
   "execution_count": 8,
   "metadata": {},
   "outputs": [],
   "source": [
    "# split features set into training and test dataset\n",
    "# \"stratify\" option ensures that train and test dataset have all labels (targets) \n",
    "# in the same proportion\n",
    "\n",
    "X_train, X_test, y_train, y_test = model_selection.train_test_split(mfccs_minmax,\n",
    "                                        audio_labels,stratify= audio_labels,test_size=0.20)"
   ]
  },
  {
   "cell_type": "code",
   "execution_count": 9,
   "metadata": {},
   "outputs": [
    {
     "name": "stdout",
     "output_type": "stream",
     "text": [
      "prediction accuracy is  0.9833333333333333\n",
      "[[60  0  0  0  0  0  0  0  0  0]\n",
      " [ 0 57  0  0  1  1  0  1  0  0]\n",
      " [ 1  0 59  0  0  0  0  0  0  0]\n",
      " [ 0  0  2 58  0  0  0  0  0  0]\n",
      " [ 0  0  0  0 59  1  0  0  0  0]\n",
      " [ 0  0  0  0  0 59  0  0  0  1]\n",
      " [ 0  0  0  0  0  0 59  0  1  0]\n",
      " [ 0  0  0  0  0  0  0 60  0  0]\n",
      " [ 0  0  0  0  0  0  0  0 60  0]\n",
      " [ 0  0  0  0  0  0  1  0  0 59]]\n",
      "              precision    recall  f1-score   support\n",
      "\n",
      "           0       0.98      1.00      0.99        60\n",
      "           1       1.00      0.95      0.97        60\n",
      "           2       0.97      0.98      0.98        60\n",
      "           3       1.00      0.97      0.98        60\n",
      "           4       0.98      0.98      0.98        60\n",
      "           5       0.97      0.98      0.98        60\n",
      "           6       0.98      0.98      0.98        60\n",
      "           7       0.98      1.00      0.99        60\n",
      "           8       0.98      1.00      0.99        60\n",
      "           9       0.98      0.98      0.98        60\n",
      "\n",
      "    accuracy                           0.98       600\n",
      "   macro avg       0.98      0.98      0.98       600\n",
      "weighted avg       0.98      0.98      0.98       600\n",
      "\n"
     ]
    }
   ],
   "source": [
    "# Random Forest Classifier\n",
    "\n",
    "# instantiate model with proper parameters\n",
    "rfc = RandomForestClassifier(class_weight=\"balanced\",n_estimators=500,bootstrap=True)\n",
    "\n",
    "# fit the model on training dataset\n",
    "rfc.fit(X_train,y_train)\n",
    "\n",
    "# check model on test dataset\n",
    "pred_test = rfc.predict(X_test)\n",
    "\n",
    "# check prediction accuracy \n",
    "pred_accuracy = accuracy_score(y_test,pred_test)\n",
    "print(\"prediction accuracy is \", pred_accuracy)\n",
    "\n",
    "# View confusion matrix and classification report\n",
    "print(confusion_matrix(y_test,pred_test))\n",
    "\n",
    "print(classification_report(y_test,pred_test))"
   ]
  },
  {
   "cell_type": "code",
   "execution_count": 10,
   "metadata": {},
   "outputs": [
    {
     "name": "stdout",
     "output_type": "stream",
     "text": [
      "mean accuracy is 0.97 with a standard deviation of 0.02\n"
     ]
    },
    {
     "data": {
      "text/plain": [
       "array([0.94      , 0.98333333, 0.98      , 0.99666667, 0.97333333,\n",
       "       0.93      , 0.96      , 0.98      , 0.98666667, 0.96      ])"
      ]
     },
     "execution_count": 10,
     "metadata": {},
     "output_type": "execute_result"
    }
   ],
   "source": [
    "# confirm the accuracy with more robust method, 10-fold cross-validation\n",
    "\n",
    "# define the model\n",
    "rfc = RandomForestClassifier(class_weight=\"balanced\", n_estimators=500, bootstrap=False)\n",
    "rfc_scores = cross_val_score(rfc, mfccs_minmax, audio_labels, cv=10)\n",
    "print(\"mean accuracy is %0.2f with a standard deviation of %0.2f\" %(rfc_scores.mean(), rfc_scores.std()))\n",
    "rfc_scores"
   ]
  }
 ],
 "metadata": {
  "kernelspec": {
   "display_name": "Python 3",
   "language": "python",
   "name": "python3"
  },
  "language_info": {
   "codemirror_mode": {
    "name": "ipython",
    "version": 3
   },
   "file_extension": ".py",
   "mimetype": "text/x-python",
   "name": "python",
   "nbconvert_exporter": "python",
   "pygments_lexer": "ipython3",
   "version": "3.8.5"
  }
 },
 "nbformat": 4,
 "nbformat_minor": 4
}
